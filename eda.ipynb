{
 "cells": [
  {
   "cell_type": "code",
   "execution_count": 8,
   "id": "d096ab17-97f6-42ad-8cae-1508baa5a3d6",
   "metadata": {},
   "outputs": [],
   "source": [
    "import pandas as pd\n",
    "import numpy as np\n",
    "import matplotlib.pyplot as plt"
   ]
  },
  {
   "cell_type": "code",
   "execution_count": 10,
   "id": "43c6bd9d-755c-45ff-b728-5d45480e0c6d",
   "metadata": {},
   "outputs": [],
   "source": [
    "f22 = pd.read_csv(\"/Users/jessie/Desktop/UCSB/nexus/med/applicationsF22.csv\")"
   ]
  },
  {
   "cell_type": "code",
   "execution_count": 11,
   "id": "694b9950-98aa-4fb6-a1b0-c3553521683b",
   "metadata": {},
   "outputs": [
    {
     "data": {
      "text/html": [
       "<div>\n",
       "<style scoped>\n",
       "    .dataframe tbody tr th:only-of-type {\n",
       "        vertical-align: middle;\n",
       "    }\n",
       "\n",
       "    .dataframe tbody tr th {\n",
       "        vertical-align: top;\n",
       "    }\n",
       "\n",
       "    .dataframe thead th {\n",
       "        text-align: right;\n",
       "    }\n",
       "</style>\n",
       "<table border=\"1\" class=\"dataframe\">\n",
       "  <thead>\n",
       "    <tr style=\"text-align: right;\">\n",
       "      <th></th>\n",
       "      <th>Institution Name</th>\n",
       "      <th>State</th>\n",
       "      <th>Applied</th>\n",
       "      <th>NYA</th>\n",
       "      <th>Accepted</th>\n",
       "      <th>Matric</th>\n",
       "    </tr>\n",
       "  </thead>\n",
       "  <tbody>\n",
       "    <tr>\n",
       "      <th>0</th>\n",
       "      <td>Frederick P. Whiddon College of Medicine at th...</td>\n",
       "      <td>AL</td>\n",
       "      <td>2.0</td>\n",
       "      <td>2.0</td>\n",
       "      <td>0.0</td>\n",
       "      <td>0.0</td>\n",
       "    </tr>\n",
       "    <tr>\n",
       "      <th>1</th>\n",
       "      <td>University of Alabama at Birmingham Marnix E. ...</td>\n",
       "      <td>AL</td>\n",
       "      <td>13.0</td>\n",
       "      <td>13.0</td>\n",
       "      <td>0.0</td>\n",
       "      <td>0.0</td>\n",
       "    </tr>\n",
       "    <tr>\n",
       "      <th>2</th>\n",
       "      <td>University of Arkansas for Medical Sciences Co...</td>\n",
       "      <td>AR</td>\n",
       "      <td>6.0</td>\n",
       "      <td>6.0</td>\n",
       "      <td>0.0</td>\n",
       "      <td>0.0</td>\n",
       "    </tr>\n",
       "    <tr>\n",
       "      <th>3</th>\n",
       "      <td>University of Arizona College of Medicine - Ph...</td>\n",
       "      <td>AZ</td>\n",
       "      <td>91.0</td>\n",
       "      <td>85.0</td>\n",
       "      <td>4.0</td>\n",
       "      <td>2.0</td>\n",
       "    </tr>\n",
       "    <tr>\n",
       "      <th>4</th>\n",
       "      <td>University of Arizona College of Medicine – Tu...</td>\n",
       "      <td>AZ</td>\n",
       "      <td>79.0</td>\n",
       "      <td>78.0</td>\n",
       "      <td>0.0</td>\n",
       "      <td>1.0</td>\n",
       "    </tr>\n",
       "  </tbody>\n",
       "</table>\n",
       "</div>"
      ],
      "text/plain": [
       "                                    Institution Name State  Applied   NYA  \\\n",
       "0  Frederick P. Whiddon College of Medicine at th...    AL      2.0   2.0   \n",
       "1  University of Alabama at Birmingham Marnix E. ...    AL     13.0  13.0   \n",
       "2  University of Arkansas for Medical Sciences Co...    AR      6.0   6.0   \n",
       "3  University of Arizona College of Medicine - Ph...    AZ     91.0  85.0   \n",
       "4  University of Arizona College of Medicine – Tu...    AZ     79.0  78.0   \n",
       "\n",
       "   Accepted  Matric  \n",
       "0       0.0     0.0  \n",
       "1       0.0     0.0  \n",
       "2       0.0     0.0  \n",
       "3       4.0     2.0  \n",
       "4       0.0     1.0  "
      ]
     },
     "execution_count": 11,
     "metadata": {},
     "output_type": "execute_result"
    }
   ],
   "source": [
    "f22.head()"
   ]
  }
 ],
 "metadata": {
  "kernelspec": {
   "display_name": "Python 3 (ipykernel)",
   "language": "python",
   "name": "python3"
  },
  "language_info": {
   "codemirror_mode": {
    "name": "ipython",
    "version": 3
   },
   "file_extension": ".py",
   "mimetype": "text/x-python",
   "name": "python",
   "nbconvert_exporter": "python",
   "pygments_lexer": "ipython3",
   "version": "3.10.0"
  }
 },
 "nbformat": 4,
 "nbformat_minor": 5
}
